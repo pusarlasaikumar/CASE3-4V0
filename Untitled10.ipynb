{
  "nbformat": 4,
  "nbformat_minor": 0,
  "metadata": {
    "colab": {
      "provenance": [],
      "authorship_tag": "ABX9TyNTxdHYzNO/9ajmpMIuL6mh",
      "include_colab_link": true
    },
    "kernelspec": {
      "name": "python3",
      "display_name": "Python 3"
    },
    "language_info": {
      "name": "python"
    }
  },
  "cells": [
    {
      "cell_type": "markdown",
      "metadata": {
        "id": "view-in-github",
        "colab_type": "text"
      },
      "source": [
        "<a href=\"https://colab.research.google.com/github/pusarlasaikumar/CASE3-4V0/blob/main/Untitled10.ipynb\" target=\"_parent\"><img src=\"https://colab.research.google.com/assets/colab-badge.svg\" alt=\"Open In Colab\"/></a>"
      ]
    },
    {
      "cell_type": "code",
      "execution_count": 4,
      "metadata": {
        "colab": {
          "base_uri": "https://localhost:8080/"
        },
        "id": "k_mIBEz8skYQ",
        "outputId": "eaf8e41a-b308-4ed9-95af-1cc84c6624ae"
      },
      "outputs": [
        {
          "output_type": "stream",
          "name": "stdout",
          "text": [
            "    EAR  blinkrate  yawncount  time  result\n",
            "0  0.30         10          1     9  Drowsy\n",
            "1  0.50         15          0    13   Alert\n",
            "2  0.25         12          2     8  Drowsy\n",
            "3  0.60          5          0    19   Alert\n",
            "4  0.28          8          1    14  Drowsy\n",
            "5  0.70          3          3    20   Alert\n",
            "6  0.35          9          1     7  Drowsy\n",
            "7  0.40          7          0    17   Alert\n",
            "['Alert']\n",
            "0.875\n"
          ]
        },
        {
          "output_type": "stream",
          "name": "stderr",
          "text": [
            "/usr/local/lib/python3.10/dist-packages/sklearn/neighbors/_classification.py:238: DataConversionWarning: A column-vector y was passed when a 1d array was expected. Please change the shape of y to (n_samples,), for example using ravel().\n",
            "  return self._fit(X, y)\n",
            "/usr/local/lib/python3.10/dist-packages/sklearn/base.py:493: UserWarning: X does not have valid feature names, but KNeighborsClassifier was fitted with feature names\n",
            "  warnings.warn(\n"
          ]
        }
      ],
      "source": [
        "import pandas as sajid\n",
        "from sklearn.neighbors import KNeighborsClassifier\n",
        "\n",
        "dinesh=sajid.read_csv('drowsy (1).csv')\n",
        "print(dinesh)\n",
        "\n",
        "feature=sajid.read_csv('drowsy (1).csv',usecols=[0,1,2,3])\n",
        "label=sajid.read_csv('drowsy (1).csv',usecols=[4])\n",
        "\n",
        "vijay=KNeighborsClassifier(n_neighbors=2)\n",
        "vijay.fit(feature,label)\n",
        "print(vijay.predict([[0.3,3,3,20]]))\n",
        "print(vijay.score(feature,label))\n",
        "\n"
      ]
    }
  ]
}