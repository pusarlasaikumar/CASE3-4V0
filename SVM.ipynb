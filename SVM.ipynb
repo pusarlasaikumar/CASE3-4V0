{
  "nbformat": 4,
  "nbformat_minor": 0,
  "metadata": {
    "colab": {
      "provenance": [],
      "authorship_tag": "ABX9TyN6dGG6p9NSoF4ky6rCfINR",
      "include_colab_link": true
    },
    "kernelspec": {
      "name": "python3",
      "display_name": "Python 3"
    },
    "language_info": {
      "name": "python"
    }
  },
  "cells": [
    {
      "cell_type": "markdown",
      "metadata": {
        "id": "view-in-github",
        "colab_type": "text"
      },
      "source": [
        "<a href=\"https://colab.research.google.com/github/pusarlasaikumar/CASE3-4V0/blob/main/SVM.ipynb\" target=\"_parent\"><img src=\"https://colab.research.google.com/assets/colab-badge.svg\" alt=\"Open In Colab\"/></a>"
      ]
    },
    {
      "cell_type": "code",
      "execution_count": 1,
      "metadata": {
        "colab": {
          "base_uri": "https://localhost:8080/"
        },
        "id": "HC7adRehZJDk",
        "outputId": "cbd6f3e6-a005-4ac9-c88e-44b5453aa279"
      },
      "outputs": [
        {
          "output_type": "stream",
          "name": "stdout",
          "text": [
            "    Hair_Length_cm  Hair_Color  Hair_Texture  Gender\n",
            "0              8.5           2             2       1\n",
            "1              1.8           1             1       0\n",
            "2             25.8           1             2       0\n",
            "3             21.1           3             1       1\n",
            "4             26.6           0             0       1\n",
            "..             ...         ...           ...     ...\n",
            "64             1.4           1             0       0\n",
            "65             4.5           1             2       0\n",
            "66             7.5           3             1       0\n",
            "67             4.4           0             2       0\n",
            "68             3.4           0             1       1\n",
            "\n",
            "[69 rows x 4 columns]\n",
            "[0]\n",
            "0.6231884057971014\n"
          ]
        },
        {
          "output_type": "stream",
          "name": "stderr",
          "text": [
            "/usr/local/lib/python3.10/dist-packages/sklearn/utils/validation.py:1339: DataConversionWarning: A column-vector y was passed when a 1d array was expected. Please change the shape of y to (n_samples, ), for example using ravel().\n",
            "  y = column_or_1d(y, warn=True)\n",
            "/usr/local/lib/python3.10/dist-packages/sklearn/base.py:493: UserWarning: X does not have valid feature names, but SVC was fitted with feature names\n",
            "  warnings.warn(\n"
          ]
        }
      ],
      "source": [
        "import pandas as pd\n",
        "from sklearn.svm import SVC\n",
        "\n",
        "dataset = pd.read_csv('hair.csv')\n",
        "print(dataset)\n",
        "\n",
        "features = pd.read_csv('hair.csv',usecols=[0,1,2])\n",
        "labels = pd.read_csv('hair.csv', usecols = [3])\n",
        "\n",
        "knn = SVC(kernel='linear')\n",
        "knn.fit(features,labels)\n",
        "print(knn.predict([[24,1,0,]]))\n",
        "print(knn.score(features,labels))"
      ]
    }
  ]
}